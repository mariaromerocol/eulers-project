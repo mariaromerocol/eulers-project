{
  "nbformat": 4,
  "nbformat_minor": 0,
  "metadata": {
    "colab": {
      "provenance": [],
      "collapsed_sections": [
        "nOnW-3Pr_e6P",
        "xZ0JRWXPMrG8",
        "tah7efm__B8v",
        "epv681wW_IA0",
        "qTFXC79r_TFJ"
      ],
      "authorship_tag": "ABX9TyOeAmcZa81XLIDxUoojeh1b",
      "include_colab_link": true
    },
    "kernelspec": {
      "name": "python3",
      "display_name": "Python 3"
    },
    "language_info": {
      "name": "python"
    }
  },
  "cells": [
    {
      "cell_type": "markdown",
      "metadata": {
        "id": "view-in-github",
        "colab_type": "text"
      },
      "source": [
        "<a href=\"https://colab.research.google.com/github/mariaromerocol/eulers-project/blob/master/testing_proyecto_euler.ipynb\" target=\"_parent\"><img src=\"https://colab.research.google.com/assets/colab-badge.svg\" alt=\"Open In Colab\"/></a>"
      ]
    },
    {
      "cell_type": "code",
      "execution_count": null,
      "metadata": {
        "id": "hqBOfta5WaEx"
      },
      "outputs": [],
      "source": [
        "import numpy as np\n",
        "import pandas as pd"
      ]
    },
    {
      "cell_type": "markdown",
      "source": [
        "## Test\n",
        "To apply for the job of Data Classification Engineer (Semi Senior)"
      ],
      "metadata": {
        "id": "nOnW-3Pr_e6P"
      }
    },
    {
      "cell_type": "code",
      "source": [
        "input = ([\"av\",\"a\",\"b\"], \"a\")\n",
        "words = input[0]\n",
        "word_test = input[1]"
      ],
      "metadata": {
        "id": "lEapik9OWgPg"
      },
      "execution_count": null,
      "outputs": []
    },
    {
      "cell_type": "code",
      "source": [
        "count = 0\n",
        "for word in words:\n",
        "    if word == word_test:\n",
        "        count =+ 1\n",
        "print('(',count, ',', len(words),')')"
      ],
      "metadata": {
        "colab": {
          "base_uri": "https://localhost:8080/"
        },
        "id": "6w2L9qxJWqFr",
        "outputId": "41c5d0de-1728-4d91-c444-5c282ea36ff3"
      },
      "execution_count": null,
      "outputs": [
        {
          "output_type": "stream",
          "name": "stdout",
          "text": [
            "( 1 , 3 )\n"
          ]
        }
      ]
    },
    {
      "cell_type": "markdown",
      "source": [
        "# Euler's Project\n",
        "\n",
        "link: https://www.freecodecamp.org/learn/project-euler/"
      ],
      "metadata": {
        "id": "0rEhZ3bxMHSc"
      }
    },
    {
      "cell_type": "markdown",
      "source": [
        "# I - Multiples of 3 and 5"
      ],
      "metadata": {
        "id": "xZ0JRWXPMrG8"
      }
    },
    {
      "cell_type": "markdown",
      "source": [
        "If we list all the natural numbers below 10 that are multiples of 3 or 5, we get 3, 5, 6 and 9. The sum of these multiples is 23.\n",
        "\n",
        "Find the sum of all the multiples of 3 or 5 below the provided parameter value number."
      ],
      "metadata": {
        "id": "TOEsRrFBHXNm"
      }
    },
    {
      "cell_type": "code",
      "source": [
        "def sum_multiplesOf3and5(number):\n",
        "    natural_numbers = np.array(list(range(1,number)))\n",
        "\n",
        "    of_3 = natural_numbers * 3\n",
        "    of_5 = natural_numbers * 5\n",
        "    of_3_5 = natural_numbers * 15\n",
        "\n",
        "    if number > 15:\n",
        "        multiples_3and5 = of_3_5[of_3_5 < number]\n",
        "        size_multiple3and5 = len(multiples_3and5)\n",
        "\n",
        "        sum_m15 = (15 + multiples_3and5[size_multiple3and5 - 1])*size_multiple3and5 / 2\n",
        "    else:\n",
        "        sum_m15 = 0\n",
        "\n",
        "    multiples_3 = of_3[of_3 < number]\n",
        "    size_multiple3 = len(multiples_3)\n",
        "\n",
        "    sum_m3 = (3 + multiples_3[size_multiple3 - 1])*size_multiple3 / 2\n",
        "\n",
        "    multiples_5 = of_5[of_5 < number]\n",
        "    size_multiple5 = len(multiples_5)\n",
        "\n",
        "    sum_m5 = (5 + multiples_5[size_multiple5 - 1])*size_multiple5 / 2\n",
        "\n",
        "    sum_m_3and5 = sum_m3 + sum_m5 - sum_m15\n",
        "    return int(sum_m_3and5)"
      ],
      "metadata": {
        "id": "z_BZJVj8YSoh"
      },
      "execution_count": null,
      "outputs": []
    },
    {
      "cell_type": "markdown",
      "source": [
        "## Tests"
      ],
      "metadata": {
        "id": "tah7efm__B8v"
      }
    },
    {
      "cell_type": "code",
      "source": [
        "sum_multiplesOf3and5(10)"
      ],
      "metadata": {
        "colab": {
          "base_uri": "https://localhost:8080/"
        },
        "id": "xF6Kf-8v-Gyg",
        "outputId": "e290c263-f0a4-4e1f-c8c2-2016e4e997d1"
      },
      "execution_count": null,
      "outputs": [
        {
          "output_type": "execute_result",
          "data": {
            "text/plain": [
              "23"
            ]
          },
          "metadata": {},
          "execution_count": 50
        }
      ]
    },
    {
      "cell_type": "code",
      "source": [
        "sum_multiplesOf3and5(49)"
      ],
      "metadata": {
        "colab": {
          "base_uri": "https://localhost:8080/"
        },
        "id": "7twsxjAZ-D8S",
        "outputId": "30997a50-0165-4ade-9573-ade418fbed7f"
      },
      "execution_count": null,
      "outputs": [
        {
          "output_type": "execute_result",
          "data": {
            "text/plain": [
              "543"
            ]
          },
          "metadata": {},
          "execution_count": 45
        }
      ]
    },
    {
      "cell_type": "code",
      "source": [
        "sum_multiplesOf3and5(1000)"
      ],
      "metadata": {
        "id": "-A6BlUwaO70k",
        "colab": {
          "base_uri": "https://localhost:8080/"
        },
        "outputId": "940cdf9c-8a85-4fb1-b502-a6b92f460c32"
      },
      "execution_count": null,
      "outputs": [
        {
          "output_type": "execute_result",
          "data": {
            "text/plain": [
              "233168"
            ]
          },
          "metadata": {},
          "execution_count": 46
        }
      ]
    },
    {
      "cell_type": "code",
      "source": [
        "sum_multiplesOf3and5(8456)"
      ],
      "metadata": {
        "colab": {
          "base_uri": "https://localhost:8080/"
        },
        "id": "geAhjfFL9-tu",
        "outputId": "8809da5a-9385-4007-8d58-1ab6d6d8cd2b"
      },
      "execution_count": null,
      "outputs": [
        {
          "output_type": "execute_result",
          "data": {
            "text/plain": [
              "16687353"
            ]
          },
          "metadata": {},
          "execution_count": 47
        }
      ]
    },
    {
      "cell_type": "code",
      "source": [
        "sum_multiplesOf3and5(19564)"
      ],
      "metadata": {
        "colab": {
          "base_uri": "https://localhost:8080/"
        },
        "id": "Lj6Z9-3X-BeS",
        "outputId": "074a3118-8109-49c8-e9bd-12036ae6f9a8"
      },
      "execution_count": null,
      "outputs": [
        {
          "output_type": "execute_result",
          "data": {
            "text/plain": [
              "89301183"
            ]
          },
          "metadata": {},
          "execution_count": 48
        }
      ]
    },
    {
      "cell_type": "markdown",
      "source": [],
      "metadata": {
        "id": "ld2feEvC_ZVZ"
      }
    },
    {
      "cell_type": "markdown",
      "source": [
        "# II - Even Fibonacci Numbers"
      ],
      "metadata": {
        "id": "i4pnj6ni_cCd"
      }
    },
    {
      "cell_type": "markdown",
      "source": [
        "Each new term in the Fibonacci sequence is generated by adding the previous two terms. By starting with 1 and 2, the first 10 terms will be:\n",
        "\n",
        "1, 2, 3, 5, 8, 13, 21, 34, 55, 89, ...\n",
        "By considering the terms in the Fibonacci sequence whose values do not exceed **n**, find the sum of the even-valued terms."
      ],
      "metadata": {
        "id": "nd41znMn63j7"
      }
    },
    {
      "cell_type": "code",
      "source": [
        "def fiboEvenSum(terms):\n",
        "    n0 = 0\n",
        "    n1 = 1\n",
        "    fibonacci_seq = [n0, n1]\n",
        "    sum_even = 0\n",
        "    n = 2\n",
        "\n",
        "    for n in range(1, terms-1):\n",
        "        sum_conse = fibonacci_seq[n-1] + fibonacci_seq[n]\n",
        "        if sum_conse > terms:\n",
        "            break\n",
        "        fibonacci_seq.append(fibonacci_seq[n-1] + fibonacci_seq[n])\n",
        "\n",
        "\n",
        "    seq_even = [ n for n in fibonacci_seq if (n % 2) == 0]\n",
        "    sum_even = sum(seq_even)\n",
        "\n",
        "    return(sum_even)"
      ],
      "metadata": {
        "id": "asNn-yjMzX3d"
      },
      "execution_count": null,
      "outputs": []
    },
    {
      "cell_type": "markdown",
      "source": [
        "## Tests"
      ],
      "metadata": {
        "id": "epv681wW_IA0"
      }
    },
    {
      "cell_type": "code",
      "source": [
        "fiboEvenSum(10)"
      ],
      "metadata": {
        "colab": {
          "base_uri": "https://localhost:8080/"
        },
        "id": "8n_wJCa5_JBy",
        "outputId": "1cf5dad1-cea5-4ec7-92e2-ae43dd786d41"
      },
      "execution_count": null,
      "outputs": [
        {
          "output_type": "execute_result",
          "data": {
            "text/plain": [
              "10"
            ]
          },
          "metadata": {},
          "execution_count": 12
        }
      ]
    },
    {
      "cell_type": "code",
      "source": [
        "fiboEvenSum(8)"
      ],
      "metadata": {
        "colab": {
          "base_uri": "https://localhost:8080/"
        },
        "id": "326jMoq6N27g",
        "outputId": "7d87760d-c57d-41be-ed77-882e130f53e5"
      },
      "execution_count": null,
      "outputs": [
        {
          "output_type": "execute_result",
          "data": {
            "text/plain": [
              "10"
            ]
          },
          "metadata": {},
          "execution_count": 13
        }
      ]
    },
    {
      "cell_type": "code",
      "source": [
        "fiboEvenSum(34)"
      ],
      "metadata": {
        "colab": {
          "base_uri": "https://localhost:8080/"
        },
        "id": "PLhb5LEaQvv_",
        "outputId": "88994e03-fca5-433d-cfe0-e8f256841012"
      },
      "execution_count": null,
      "outputs": [
        {
          "output_type": "execute_result",
          "data": {
            "text/plain": [
              "44"
            ]
          },
          "metadata": {},
          "execution_count": 14
        }
      ]
    },
    {
      "cell_type": "code",
      "source": [
        "fiboEvenSum(60)"
      ],
      "metadata": {
        "colab": {
          "base_uri": "https://localhost:8080/"
        },
        "id": "V_korBxjY0pX",
        "outputId": "8bc64136-9761-4c11-e08d-2a300ba146f1"
      },
      "execution_count": null,
      "outputs": [
        {
          "output_type": "execute_result",
          "data": {
            "text/plain": [
              "44"
            ]
          },
          "metadata": {},
          "execution_count": 15
        }
      ]
    },
    {
      "cell_type": "code",
      "source": [
        "fiboEvenSum(1000)"
      ],
      "metadata": {
        "colab": {
          "base_uri": "https://localhost:8080/"
        },
        "id": "TK28uWZ1Y4rF",
        "outputId": "a32ccfce-fc90-48ea-c35e-61a2d6d8c5b2"
      },
      "execution_count": null,
      "outputs": [
        {
          "output_type": "execute_result",
          "data": {
            "text/plain": [
              "798"
            ]
          },
          "metadata": {},
          "execution_count": 16
        }
      ]
    },
    {
      "cell_type": "code",
      "source": [
        "fiboEvenSum(100000)"
      ],
      "metadata": {
        "colab": {
          "base_uri": "https://localhost:8080/"
        },
        "id": "Ag4kpoERY8Ae",
        "outputId": "3622e71d-9d57-4193-f67c-60220eb6b5c2"
      },
      "execution_count": null,
      "outputs": [
        {
          "output_type": "execute_result",
          "data": {
            "text/plain": [
              "60696"
            ]
          },
          "metadata": {},
          "execution_count": 17
        }
      ]
    },
    {
      "cell_type": "code",
      "source": [
        "fiboEvenSum(4000000)"
      ],
      "metadata": {
        "colab": {
          "base_uri": "https://localhost:8080/"
        },
        "id": "JwFcJMoMZAaM",
        "outputId": "c14f4cfc-3050-4fed-e826-6f573fab6830"
      },
      "execution_count": null,
      "outputs": [
        {
          "output_type": "execute_result",
          "data": {
            "text/plain": [
              "4613732"
            ]
          },
          "metadata": {},
          "execution_count": 18
        }
      ]
    },
    {
      "cell_type": "markdown",
      "source": [
        "# III - Largest prime factor"
      ],
      "metadata": {
        "id": "ch0pw0YL_k2N"
      }
    },
    {
      "cell_type": "markdown",
      "source": [
        "The prime factors of 13195 are 5, 7, 13 and 29.\n",
        "\n",
        "What is the largest prime factor of the given number?"
      ],
      "metadata": {
        "id": "dr_ZaRoh_KMl"
      }
    },
    {
      "cell_type": "code",
      "source": [
        "def prime_list(number):\n",
        "    prime_list = []\n",
        "    for j in range(1, number+1):\n",
        "        test_true = []\n",
        "        test_false = []\n",
        "        for n in range(1, j+1):\n",
        "            if j % n == 0:\n",
        "                test_false.append(False)\n",
        "            else:\n",
        "                test_true.append(True)\n",
        "        if (len(test_false) < 3):\n",
        "            prime_list.append(j)\n",
        "    return(prime_list)\n",
        "\n",
        "def largest_prime(number):\n",
        "    list_20 = prime_list(number)\n",
        "\n",
        "    mult_false = []\n",
        "    mult_true = []\n",
        "\n",
        "    for n in list_20:\n",
        "        if number % n == 0:\n",
        "            mult_false.append(False)\n",
        "            # print(n, 'multiplo', 'false')\n",
        "            largest = n\n",
        "    print(largest)"
      ],
      "metadata": {
        "id": "oaj-DX_COiTw"
      },
      "execution_count": null,
      "outputs": []
    },
    {
      "cell_type": "code",
      "source": [],
      "metadata": {
        "id": "Ny1mi--JOqSl"
      },
      "execution_count": null,
      "outputs": []
    },
    {
      "cell_type": "markdown",
      "source": [
        "## Tests"
      ],
      "metadata": {
        "id": "qTFXC79r_TFJ"
      }
    },
    {
      "cell_type": "code",
      "source": [
        "largest_prime(2)"
      ],
      "metadata": {
        "colab": {
          "base_uri": "https://localhost:8080/"
        },
        "id": "N9lOQ-w57nxw",
        "outputId": "8498d6c5-97bf-4146-93da-06ee2b38ec47"
      },
      "execution_count": null,
      "outputs": [
        {
          "output_type": "stream",
          "name": "stdout",
          "text": [
            "2\n"
          ]
        }
      ]
    },
    {
      "cell_type": "code",
      "source": [
        "largest_prime(3)"
      ],
      "metadata": {
        "colab": {
          "base_uri": "https://localhost:8080/"
        },
        "id": "zYaTZZGr6lR9",
        "outputId": "b641c3ea-0943-4858-cf74-dd2e98e212a8"
      },
      "execution_count": null,
      "outputs": [
        {
          "output_type": "stream",
          "name": "stdout",
          "text": [
            "3\n"
          ]
        }
      ]
    },
    {
      "cell_type": "code",
      "source": [
        "largest_prime(5)"
      ],
      "metadata": {
        "colab": {
          "base_uri": "https://localhost:8080/"
        },
        "id": "1MOx6tbX5qb4",
        "outputId": "01a15ea9-5716-4d49-cb56-a2c9d082c0f7"
      },
      "execution_count": null,
      "outputs": [
        {
          "output_type": "stream",
          "name": "stdout",
          "text": [
            "5\n"
          ]
        }
      ]
    },
    {
      "cell_type": "code",
      "source": [
        "largest_prime(7)"
      ],
      "metadata": {
        "colab": {
          "base_uri": "https://localhost:8080/"
        },
        "id": "WCK9NQ1Z5qRR",
        "outputId": "f1d3f44a-3c9f-4e30-aeb8-e71c45d2093a"
      },
      "execution_count": null,
      "outputs": [
        {
          "output_type": "stream",
          "name": "stdout",
          "text": [
            "7\n"
          ]
        }
      ]
    },
    {
      "cell_type": "code",
      "source": [
        "largest_prime(8)"
      ],
      "metadata": {
        "id": "w85SF-ZnURB9",
        "colab": {
          "base_uri": "https://localhost:8080/"
        },
        "outputId": "05850fce-7821-4620-fa52-2a4ee1e57316"
      },
      "execution_count": null,
      "outputs": [
        {
          "output_type": "stream",
          "name": "stdout",
          "text": [
            "2\n"
          ]
        }
      ]
    },
    {
      "cell_type": "code",
      "source": [
        "largest_prime(13195)"
      ],
      "metadata": {
        "id": "r5RZ2ihu8FMx",
        "colab": {
          "base_uri": "https://localhost:8080/"
        },
        "outputId": "a5249bf1-46f4-489b-998f-a7836836dd27"
      },
      "execution_count": null,
      "outputs": [
        {
          "output_type": "stream",
          "name": "stdout",
          "text": [
            "29\n"
          ]
        }
      ]
    },
    {
      "cell_type": "code",
      "source": [
        "largest_prime(600851475143)"
      ],
      "metadata": {
        "id": "LC8-f2jG3XkA"
      },
      "execution_count": null,
      "outputs": []
    },
    {
      "cell_type": "markdown",
      "source": [
        "# IV - Largest palindrome product"
      ],
      "metadata": {
        "id": "WwBGrNl-7um_"
      }
    },
    {
      "cell_type": "markdown",
      "source": [
        "A palindromic number reads the same both ways. The largest palindrome made from the product of two 2-digit numbers is 9009 = 91 × 99.\n",
        "\n",
        "Find the largest palindrome made from the product of two n-digit numbers."
      ],
      "metadata": {
        "id": "DuacYEHV77bz"
      }
    },
    {
      "cell_type": "markdown",
      "source": [],
      "metadata": {
        "id": "5pm1r78X_q-o"
      }
    },
    {
      "cell_type": "code",
      "source": [
        "def testPalindrome(n, m):\n",
        "    digit_asc = np.arange(n, m, 1)\n",
        "    digit_des = digit_asc[::-1]\n",
        "\n",
        "    palindrome = 0\n",
        "    for j in digit_asc:\n",
        "        for i in digit_des:\n",
        "            prod_num = j*i\n",
        "            prod_sort = str(prod_num)[::-1]\n",
        "            if str(prod_num) == prod_sort:\n",
        "                # print('here', i, j, prod_num)\n",
        "                if prod_num > palindrome:\n",
        "                    palindrome = prod_num\n",
        "\n",
        "    print(palindrome)\n",
        "\n",
        "def largestPalindrome(digit):\n",
        "    if (digit == 2):\n",
        "        testPalindrome(10, 100)\n",
        "    elif (digit == 3):\n",
        "        testPalindrome(100, 1000)\n"
      ],
      "metadata": {
        "id": "RkPEwYI48Ff2"
      },
      "execution_count": null,
      "outputs": []
    },
    {
      "cell_type": "markdown",
      "source": [
        "## Test"
      ],
      "metadata": {
        "id": "ifa1qMft8GYl"
      }
    },
    {
      "cell_type": "code",
      "source": [
        "largestPalindrome(2)"
      ],
      "metadata": {
        "colab": {
          "base_uri": "https://localhost:8080/"
        },
        "id": "AGSGAmRY4CWH",
        "outputId": "29919992-fccc-4990-be72-ee88f19a0582"
      },
      "execution_count": null,
      "outputs": [
        {
          "output_type": "stream",
          "name": "stdout",
          "text": [
            "9009\n"
          ]
        }
      ]
    },
    {
      "cell_type": "code",
      "source": [
        "largestPalindrome(3)"
      ],
      "metadata": {
        "colab": {
          "base_uri": "https://localhost:8080/"
        },
        "id": "6KT-mpgC5hcQ",
        "outputId": "a5e74320-3bd1-48d0-db12-8dc0e303a13a"
      },
      "execution_count": null,
      "outputs": [
        {
          "output_type": "stream",
          "name": "stdout",
          "text": [
            "906609\n"
          ]
        }
      ]
    },
    {
      "cell_type": "markdown",
      "source": [
        "# V - Smallest multiple"
      ],
      "metadata": {
        "id": "6UOimDL2_70r"
      }
    },
    {
      "cell_type": "markdown",
      "source": [
        "2520 is the smallest number that can be divided by each of the numbers from 1 to 10 without any remainder.\n",
        "\n",
        "What is the smallest positive number that is evenly divisible by all of the numbers from 1 to n?"
      ],
      "metadata": {
        "id": "Nry5hRgH-4wN"
      }
    },
    {
      "cell_type": "code",
      "source": [],
      "metadata": {
        "id": "LV2jXk4l_Crd",
        "colab": {
          "base_uri": "https://localhost:8080/"
        },
        "outputId": "745a2d9c-4f29-43bd-85c5-29de66337216"
      },
      "execution_count": 10,
      "outputs": [
        {
          "output_type": "execute_result",
          "data": {
            "text/plain": [
              "60"
            ]
          },
          "metadata": {},
          "execution_count": 10
        }
      ]
    },
    {
      "cell_type": "markdown",
      "source": [
        "## Test"
      ],
      "metadata": {
        "id": "LH90gxjo-4h1"
      }
    },
    {
      "cell_type": "code",
      "source": [],
      "metadata": {
        "id": "rw9cBAhK_CEz"
      },
      "execution_count": null,
      "outputs": []
    },
    {
      "cell_type": "markdown",
      "source": [
        "# VI -"
      ],
      "metadata": {
        "id": "78TbhnYW_9MR"
      }
    },
    {
      "cell_type": "code",
      "source": [],
      "metadata": {
        "id": "-qkf-p8dYDBa"
      },
      "execution_count": null,
      "outputs": []
    },
    {
      "cell_type": "markdown",
      "source": [
        "## Test"
      ],
      "metadata": {
        "id": "UHYFNW7TAGf2"
      }
    },
    {
      "cell_type": "markdown",
      "source": [
        "# VII -"
      ],
      "metadata": {
        "id": "-o3RxCQtAAf_"
      }
    },
    {
      "cell_type": "markdown",
      "source": [
        "## Test"
      ],
      "metadata": {
        "id": "oQLDDz1PYBN-"
      }
    },
    {
      "cell_type": "markdown",
      "source": [
        "# VI -"
      ],
      "metadata": {
        "id": "ZlO3MtGHAEN8"
      }
    }
  ]
}