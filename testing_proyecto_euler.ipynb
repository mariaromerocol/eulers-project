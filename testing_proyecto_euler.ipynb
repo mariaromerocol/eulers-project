{
  "nbformat": 4,
  "nbformat_minor": 0,
  "metadata": {
    "colab": {
      "provenance": [],
      "authorship_tag": "ABX9TyNZW0s2iZzzt8d+LrwnY6Lx",
      "include_colab_link": true
    },
    "kernelspec": {
      "name": "python3",
      "display_name": "Python 3"
    },
    "language_info": {
      "name": "python"
    }
  },
  "cells": [
    {
      "cell_type": "markdown",
      "metadata": {
        "id": "view-in-github",
        "colab_type": "text"
      },
      "source": [
        "<a href=\"https://colab.research.google.com/github/mariaromerocol/eulers-project/blob/master/testing_proyecto_euler.ipynb\" target=\"_parent\"><img src=\"https://colab.research.google.com/assets/colab-badge.svg\" alt=\"Open In Colab\"/></a>"
      ]
    },
    {
      "cell_type": "code",
      "execution_count": 42,
      "metadata": {
        "id": "hqBOfta5WaEx"
      },
      "outputs": [],
      "source": [
        "import numpy as np\n",
        "import pandas as pd"
      ]
    },
    {
      "cell_type": "markdown",
      "source": [
        "##"
      ],
      "metadata": {
        "id": "nOnW-3Pr_e6P"
      }
    },
    {
      "cell_type": "code",
      "source": [
        "input = ([\"av\",\"a\",\"b\"], \"a\")\n",
        "words = input[0]\n",
        "word_test = input[1]"
      ],
      "metadata": {
        "id": "lEapik9OWgPg"
      },
      "execution_count": null,
      "outputs": []
    },
    {
      "cell_type": "code",
      "source": [
        "count = 0\n",
        "for word in words:\n",
        "    if word == word_test:\n",
        "        count =+ 1\n",
        "print('(',count, ',', len(words),')')"
      ],
      "metadata": {
        "colab": {
          "base_uri": "https://localhost:8080/"
        },
        "id": "6w2L9qxJWqFr",
        "outputId": "41c5d0de-1728-4d91-c444-5c282ea36ff3"
      },
      "execution_count": null,
      "outputs": [
        {
          "output_type": "stream",
          "name": "stdout",
          "text": [
            "( 1 , 3 )\n"
          ]
        }
      ]
    },
    {
      "cell_type": "markdown",
      "source": [
        "## I - Multiples of 3 and 5\n",
        "If we list all the natural numbers below 10 that are multiples of 3 or 5, we get 3, 5, 6 and 9. The sum of these multiples is 23.\n",
        "\n",
        "Find the sum of all the multiples of 3 or 5 below the provided parameter value number."
      ],
      "metadata": {
        "id": "TOEsRrFBHXNm"
      }
    },
    {
      "cell_type": "code",
      "source": [
        "def sum_multiplesOf3and5(number):\n",
        "    natural_numbers = np.array(list(range(1,number)))\n",
        "\n",
        "    of_3 = natural_numbers * 3\n",
        "    of_5 = natural_numbers * 5\n",
        "    of_3_5 = natural_numbers * 15\n",
        "\n",
        "    if number > 15:\n",
        "        multiples_3and5 = of_3_5[of_3_5 < number]\n",
        "        size_multiple3and5 = len(multiples_3and5)\n",
        "\n",
        "        sum_m15 = (15 + multiples_3and5[size_multiple3and5 - 1])*size_multiple3and5 / 2\n",
        "    else:\n",
        "        sum_m15 = 0\n",
        "\n",
        "    multiples_3 = of_3[of_3 < number]\n",
        "    size_multiple3 = len(multiples_3)\n",
        "\n",
        "    sum_m3 = (3 + multiples_3[size_multiple3 - 1])*size_multiple3 / 2\n",
        "\n",
        "    multiples_5 = of_5[of_5 < number]\n",
        "    size_multiple5 = len(multiples_5)\n",
        "\n",
        "    sum_m5 = (5 + multiples_5[size_multiple5 - 1])*size_multiple5 / 2\n",
        "\n",
        "    sum_m_3and5 = sum_m3 + sum_m5 - sum_m15\n",
        "    return int(sum_m_3and5)"
      ],
      "metadata": {
        "id": "z_BZJVj8YSoh"
      },
      "execution_count": 49,
      "outputs": []
    },
    {
      "cell_type": "markdown",
      "source": [
        "## Tests"
      ],
      "metadata": {
        "id": "tah7efm__B8v"
      }
    },
    {
      "cell_type": "code",
      "source": [
        "sum_multiplesOf3and5(10)"
      ],
      "metadata": {
        "colab": {
          "base_uri": "https://localhost:8080/"
        },
        "id": "xF6Kf-8v-Gyg",
        "outputId": "e290c263-f0a4-4e1f-c8c2-2016e4e997d1"
      },
      "execution_count": 50,
      "outputs": [
        {
          "output_type": "execute_result",
          "data": {
            "text/plain": [
              "23"
            ]
          },
          "metadata": {},
          "execution_count": 50
        }
      ]
    },
    {
      "cell_type": "code",
      "source": [
        "sum_multiplesOf3and5(49)"
      ],
      "metadata": {
        "colab": {
          "base_uri": "https://localhost:8080/"
        },
        "id": "7twsxjAZ-D8S",
        "outputId": "30997a50-0165-4ade-9573-ade418fbed7f"
      },
      "execution_count": 45,
      "outputs": [
        {
          "output_type": "execute_result",
          "data": {
            "text/plain": [
              "543"
            ]
          },
          "metadata": {},
          "execution_count": 45
        }
      ]
    },
    {
      "cell_type": "code",
      "source": [
        "sum_multiplesOf3and5(1000)"
      ],
      "metadata": {
        "id": "-A6BlUwaO70k",
        "colab": {
          "base_uri": "https://localhost:8080/"
        },
        "outputId": "940cdf9c-8a85-4fb1-b502-a6b92f460c32"
      },
      "execution_count": 46,
      "outputs": [
        {
          "output_type": "execute_result",
          "data": {
            "text/plain": [
              "233168"
            ]
          },
          "metadata": {},
          "execution_count": 46
        }
      ]
    },
    {
      "cell_type": "code",
      "source": [
        "sum_multiplesOf3and5(8456)"
      ],
      "metadata": {
        "colab": {
          "base_uri": "https://localhost:8080/"
        },
        "id": "geAhjfFL9-tu",
        "outputId": "8809da5a-9385-4007-8d58-1ab6d6d8cd2b"
      },
      "execution_count": 47,
      "outputs": [
        {
          "output_type": "execute_result",
          "data": {
            "text/plain": [
              "16687353"
            ]
          },
          "metadata": {},
          "execution_count": 47
        }
      ]
    },
    {
      "cell_type": "code",
      "source": [
        "sum_multiplesOf3and5(19564)"
      ],
      "metadata": {
        "colab": {
          "base_uri": "https://localhost:8080/"
        },
        "id": "Lj6Z9-3X-BeS",
        "outputId": "074a3118-8109-49c8-e9bd-12036ae6f9a8"
      },
      "execution_count": 48,
      "outputs": [
        {
          "output_type": "execute_result",
          "data": {
            "text/plain": [
              "89301183"
            ]
          },
          "metadata": {},
          "execution_count": 48
        }
      ]
    },
    {
      "cell_type": "markdown",
      "source": [
        "## II - Even Fibonacci Numbers\n",
        "\n",
        "Each new term in the Fibonacci sequence is generated by adding the previous two terms. By starting with 1 and 2, the first 10 terms will be:\n",
        "\n",
        "1, 2, 3, 5, 8, 13, 21, 34, 55, 89, ...\n",
        "By considering the terms in the Fibonacci sequence whose values do not exceed **n**, find the sum of the even-valued terms."
      ],
      "metadata": {
        "id": "nd41znMn63j7"
      }
    },
    {
      "cell_type": "code",
      "source": [],
      "metadata": {
        "id": "asNn-yjMzX3d"
      },
      "execution_count": null,
      "outputs": []
    },
    {
      "cell_type": "markdown",
      "source": [
        "## Tests"
      ],
      "metadata": {
        "id": "epv681wW_IA0"
      }
    },
    {
      "cell_type": "code",
      "source": [],
      "metadata": {
        "id": "8n_wJCa5_JBy"
      },
      "execution_count": null,
      "outputs": []
    },
    {
      "cell_type": "markdown",
      "source": [
        "## III - Largest prime factor\n",
        "\n",
        "The prime factors of 13195 are 5, 7, 13 and 29.\n",
        "\n",
        "What is the largest prime factor of the given number?"
      ],
      "metadata": {
        "id": "dr_ZaRoh_KMl"
      }
    },
    {
      "cell_type": "code",
      "source": [],
      "metadata": {
        "id": "gqd5gBJL_Zf1"
      },
      "execution_count": null,
      "outputs": []
    },
    {
      "cell_type": "markdown",
      "source": [
        "## Tests"
      ],
      "metadata": {
        "id": "qTFXC79r_TFJ"
      }
    },
    {
      "cell_type": "code",
      "source": [],
      "metadata": {
        "id": "XGZh7kFL_YUk"
      },
      "execution_count": null,
      "outputs": []
    }
  ]
}